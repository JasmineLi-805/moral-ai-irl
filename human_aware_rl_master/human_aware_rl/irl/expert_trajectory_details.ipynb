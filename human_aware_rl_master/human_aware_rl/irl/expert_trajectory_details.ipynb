{
 "cells": [
  {
   "cell_type": "code",
   "execution_count": 1,
   "id": "9262deb5",
   "metadata": {},
   "outputs": [],
   "source": [
    "import os\n",
    "import pickle\n",
    "\n",
    "from human_aware_rl.rllib.utils import get_base_ae\n",
    "from human_aware_rl.irl.config_model import get_train_config\n",
    "from overcooked_ai_py.mdp.overcooked_mdp import OvercookedState"
   ]
  },
  {
   "cell_type": "code",
   "execution_count": 2,
   "id": "794d6059",
   "metadata": {},
   "outputs": [],
   "source": [
    "def _loadProcessedHumanData(data_path, view_traj=False):\n",
    "    assert os.path.isfile(data_path)\n",
    "    with open(data_path, 'rb') as file:\n",
    "        human_data = pickle.load(file)\n",
    "    \n",
    "    gridworld = human_data['gridworld']\n",
    "    trajectory = human_data['trajectory']\n",
    "\n",
    "    states = []\n",
    "    actions = []\n",
    "    scores = []\n",
    "    for i in range(len(trajectory)):\n",
    "        state = []\n",
    "        action = []\n",
    "        score = []\n",
    "        for j in range(len(trajectory[i])):\n",
    "            state_dict = trajectory[i][j]\n",
    "            s = state_dict['state']\n",
    "            a = state_dict['joint_action']\n",
    "            sc = state_dict['score']\n",
    "\n",
    "            s = OvercookedState.from_dict(s)\n",
    "            state.append(s)\n",
    "            action.append(a)\n",
    "            score.append(sc)\n",
    "            \n",
    "            if view_traj:\n",
    "                print(gridworld.state_string(s))\n",
    "        states.append(state)\n",
    "        actions.append(action)\n",
    "        scores.append(score)\n",
    "\n",
    "    assert len(states) == len(trajectory)\n",
    "    assert len(actions) == len(trajectory)\n",
    "    assert len(scores) == len(trajectory)\n",
    "    return states, actions, scores"
   ]
  },
  {
   "cell_type": "code",
   "execution_count": 3,
   "id": "1ef06b08",
   "metadata": {},
   "outputs": [],
   "source": [
    "# path to the processed data files\n",
    "no_coop_path = '/home/jasmine/moral-ai-irl/overcooked_participants_data/cleaned/trajectories_onion_cook_2022-07-31_15:05:31.data'\n",
    "coop_path = '/home/jasmine/moral-ai-irl/overcooked_participants_data/cleaned/trajectories_onion_help_2022-07-31_14:54:48.data'\n",
    "\n",
    "# setup game environment\n",
    "config = get_train_config()\n",
    "mdp_params = config[\"environment_params\"][\"mdp_params\"]\n",
    "env_params = config[\"environment_params\"][\"env_params\"]\n",
    "ae = get_base_ae(mdp_params, env_params)\n",
    "env = ae.env"
   ]
  },
  {
   "cell_type": "code",
   "execution_count": 4,
   "id": "3e93d569",
   "metadata": {},
   "outputs": [
    {
     "name": "stdout",
     "output_type": "stream",
     "text": [
      "Loading no-coop data...\n",
      "\tnumber of games: 1922\n",
      "\tavg length per game=13.539542143600416, max length=51, min length=8\n"
     ]
    }
   ],
   "source": [
    "print('Loading no-coop data...')\n",
    "nc_states, nc_actions, nc_scores = _loadProcessedHumanData(no_coop_path, view_traj=False)\n",
    "print(f'\\tnumber of games: {len(nc_states)}')\n",
    "\n",
    "nc_sum = 0\n",
    "nc_lenMin = 50  # placeholder value, it is known that the minimal length is <50.\n",
    "nc_lenMax = 0\n",
    "nc_lenDict = {}\n",
    "for _s in nc_states:\n",
    "    nc_sum += len(_s)\n",
    "    val = nc_lenDict.get(len(_s), 0)\n",
    "    nc_lenDict[len(_s)] = val+1\n",
    "    nc_lenMin = min(len(_s), nc_lenMin)\n",
    "    nc_lenMax = max(len(_s), nc_lenMax)\n",
    "print(f'\\tavg length per game={nc_sum / len(nc_states)}, max length={nc_lenMax}, min length={nc_lenMin}')"
   ]
  },
  {
   "cell_type": "code",
   "execution_count": 5,
   "id": "61c79411",
   "metadata": {},
   "outputs": [
    {
     "name": "stdout",
     "output_type": "stream",
     "text": [
      "Loading coop data...\n",
      "\tnumber of games: 352\n",
      "\tavg length per game=6.948863636363637, max length=49, min length=4\n"
     ]
    }
   ],
   "source": [
    "print('Loading coop data...')\n",
    "co_states, co_actions, co_scores = _loadProcessedHumanData(coop_path, view_traj=False)\n",
    "print(f'\\tnumber of games: {len(co_states)}')\n",
    "\n",
    "co_sum = 0\n",
    "co_lenMin = 50  # placeholder value, it is known that the minimal length is <50.\n",
    "co_lenMax = 0\n",
    "co_lenDict = {}\n",
    "for _s in co_states:\n",
    "    co_sum += len(_s)\n",
    "    val = co_lenDict.get(len(_s), 0)\n",
    "    co_lenDict[len(_s)] = val+1\n",
    "    co_lenMin = min(len(_s), co_lenMin)\n",
    "    co_lenMax = max(len(_s), co_lenMax)\n",
    "print(f'\\tavg length per game={co_sum / len(co_states)}, max length={co_lenMax}, min length={co_lenMin}')"
   ]
  },
  {
   "cell_type": "code",
   "execution_count": 6,
   "id": "c87a7799",
   "metadata": {},
   "outputs": [],
   "source": [
    "import matplotlib.pyplot as plt\n",
    "\n",
    "def freq2list(freq):\n",
    "    cnt = len(freq)\n",
    "    lst = []\n",
    "    i = 0\n",
    "    while cnt > 0:\n",
    "        if i in freq:\n",
    "            lst.append(freq[i])\n",
    "            cnt -= 1\n",
    "        else:\n",
    "            lst.append(0)\n",
    "        i += 1\n",
    "    return lst\n",
    "\n",
    "def plot_frequency(freq, title):\n",
    "    plt.clf()\n",
    "    plt.plot(freq)\n",
    "    plt.title(title)\n",
    "    plt.show()"
   ]
  },
  {
   "cell_type": "code",
   "execution_count": 7,
   "id": "2d371ac6",
   "metadata": {},
   "outputs": [
    {
     "data": {
      "image/png": "[encoded data removed]",
      "text/plain": [
       "<Figure size 432x288 with 1 Axes>"
      ]
     },
     "metadata": {
      "needs_background": "light"
     },
     "output_type": "display_data"
    },
    {
     "name": "stdout",
     "output_type": "stream",
     "text": [
      "frequency in list=[0, 0, 0, 0, 0, 0, 0, 0, 9, 78, 193, 364, 382, 263, 187, 96, 68, 61, 39, 27, 18, 23, 20, 16, 15, 9, 3, 10, 6, 7, 8, 2, 3, 4, 0, 2, 0, 1, 4, 2, 0, 1, 0, 0, 0, 0, 0, 0, 0, 0, 0, 1]\n"
     ]
    }
   ],
   "source": [
    "nc_freq = freq2list(nc_lenDict)\n",
    "plot_frequency(nc_freq, \"Length Distribution of Non-cooperative Trajectories\")\n",
    "print(f'frequency in list={nc_freq}')"
   ]
  },
  {
   "cell_type": "code",
   "execution_count": 8,
   "id": "4bfd6951",
   "metadata": {},
   "outputs": [
    {
     "data": {
      "image/png": "[encoded data removed]",
      "text/plain": [
       "<Figure size 432x288 with 1 Axes>"
      ]
     },
     "metadata": {
      "needs_background": "light"
     },
     "output_type": "display_data"
    },
    {
     "name": "stdout",
     "output_type": "stream",
     "text": [
      "frequency in list=[0, 0, 0, 0, 25, 103, 108, 51, 17, 6, 11, 4, 6, 7, 2, 2, 2, 2, 0, 0, 0, 1, 0, 0, 1, 0, 1, 0, 1, 0, 0, 0, 0, 0, 0, 0, 0, 0, 0, 0, 0, 0, 0, 0, 0, 0, 0, 1, 0, 1]\n"
     ]
    }
   ],
   "source": [
    "co_freq = freq2list(co_lenDict)\n",
    "plot_frequency(co_freq, \"Length Distribution of Cooperative Trajectories\")\n",
    "print(f'frequency in list={co_freq}')"
   ]
  },
  {
   "cell_type": "code",
   "execution_count": null,
   "id": "48948b15",
   "metadata": {},
   "outputs": [],
   "source": []
  }
 ],
 "metadata": {
  "kernelspec": {
   "display_name": "Python 3 (ipykernel)",
   "language": "python",
   "name": "python3"
  },
  "language_info": {
   "codemirror_mode": {
    "name": "ipython",
    "version": 3
   },
   "file_extension": ".py",
   "mimetype": "text/x-python",
   "name": "python",
   "nbconvert_exporter": "python",
   "pygments_lexer": "ipython3",
   "version": "3.7.11"
  }
 },
 "nbformat": 4,
 "nbformat_minor": 5
}
