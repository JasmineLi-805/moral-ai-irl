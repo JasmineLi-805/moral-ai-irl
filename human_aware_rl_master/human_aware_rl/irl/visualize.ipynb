{
 "cells": [
  {
   "cell_type": "code",
   "execution_count": 19,
   "metadata": {},
   "outputs": [],
   "source": [
    "import torch\n",
    "import pickle\n",
    "import os,sys\n",
    "os.environ[\"CUDA_VISIBLE_DEVICES\"]=\"0\"\n",
    "sys.path.append(\"../../\")\n",
    "\n",
    "from human_aware_rl.rllib.rllib import reset_dummy_policy, gen_trainer_from_params\n",
    "from human_aware_rl.rllib.utils import get_base_ae\n",
    "from human_aware_rl.dummy.rl_agent import *\n",
    "\n",
    "from overcooked_ai_py.agents.benchmarking import AgentEvaluator\n",
    "from overcooked_ai_py.agents.agent import AgentPair, FixedPlanAgent, GreedyHumanModel, RandomAgent, SampleAgent\n",
    "from overcooked_ai_py.visualization.state_visualizer import StateVisualizer"
   ]
  },
  {
   "cell_type": "code",
   "execution_count": 20,
   "metadata": {},
   "outputs": [],
   "source": [
    "def load_checkpoint(file_path):\n",
    "    assert os.path.isfile(file_path)\n",
    "    with open(file_path, 'rb') as file:\n",
    "        checkpoint = pickle.load(file)\n",
    "    return checkpoint\n",
    "\n",
    "# ckpt = '/home/jasmine/moral-ai-irl/human_aware_rl_master/human_aware_rl/irl/result/human/T25_coop/epoch=100.checkpoint'\n",
    "# info = load_checkpoint(ckpt)\n",
    "# print(info['diff_log'])"
   ]
  },
  {
   "cell_type": "code",
   "execution_count": 29,
   "metadata": {},
   "outputs": [
    {
     "name": "stdout",
     "output_type": "stream",
     "text": [
      "1 trajectories in this file\n"
     ]
    }
   ],
   "source": [
    "ckpt_traj = '/home/jasmine/moral-ai-irl/human_aware_rl_master/human_aware_rl/irl/result/human/T23_noncoop/eval_it=25.trajectory'\n",
    "cp_trajs = load_checkpoint(ckpt_traj)\n",
    "assert type(cp_trajs) == list\n",
    "print(f'{len(cp_trajs)} trajectories in this file')"
   ]
  },
  {
   "cell_type": "code",
   "execution_count": 30,
   "metadata": {},
   "outputs": [
    {
     "data": {
      "application/vnd.jupyter.widget-view+json": {
       "model_id": "6e919bf3d90f45d5b42a8add0c89dd7b",
       "version_major": 2,
       "version_minor": 0
      },
      "text/plain": [
       "interactive(children=(IntSlider(value=0, description='timestep', max=7), Output()), _dom_classes=('widget-inte…"
      ]
     },
     "metadata": {},
     "output_type": "display_data"
    }
   ],
   "source": [
    "StateVisualizer().display_rendered_trajectory(\n",
    "    cp_trajs[0], \n",
    "    ipython_display=True, \n",
    "    img_directory_path='/home/jasmine/moral-ai-irl/human_aware_rl_master/human_aware_rl/irl/visualization'\n",
    ")"
   ]
  },
  {
   "attachments": {},
   "cell_type": "markdown",
   "metadata": {},
   "source": [
    "## Original Example"
   ]
  },
  {
   "cell_type": "code",
   "execution_count": null,
   "metadata": {},
   "outputs": [],
   "source": [
    "ae = AgentEvaluator.from_layout_name({\"layout_name\": \"coop_experiment_1\"}, {\"horizon\": 10})\n",
    "trajs = ae.evaluate_human_model_pair()"
   ]
  },
  {
   "cell_type": "code",
   "execution_count": null,
   "metadata": {},
   "outputs": [],
   "source": [
    "action_probs = [ [RandomAgent(all_actions=True).action(state)[1][\"action_probs\"]]*2 for state in trajs[\"ep_states\"][0]]\n",
    "StateVisualizer().display_rendered_trajectory(trajs, ipython_display=True)"
   ]
  },
  {
   "cell_type": "code",
   "execution_count": null,
   "metadata": {},
   "outputs": [],
   "source": [
    "print(action_probs)"
   ]
  }
 ],
 "metadata": {
  "kernelspec": {
   "display_name": "mai2",
   "language": "python",
   "name": "python3"
  },
  "language_info": {
   "codemirror_mode": {
    "name": "ipython",
    "version": 3
   },
   "file_extension": ".py",
   "mimetype": "text/x-python",
   "name": "python",
   "nbconvert_exporter": "python",
   "pygments_lexer": "ipython3",
   "version": "3.7.13"
  },
  "orig_nbformat": 4,
  "vscode": {
   "interpreter": {
    "hash": "b15ee45e7149d2797238597f90b4700670ee9523c4d8c99c2dda2f6e6be45065"
   }
  }
 },
 "nbformat": 4,
 "nbformat_minor": 2
}
