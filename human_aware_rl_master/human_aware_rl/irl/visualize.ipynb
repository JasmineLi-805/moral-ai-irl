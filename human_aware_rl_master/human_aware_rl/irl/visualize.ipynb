{
 "cells": [
  {
   "cell_type": "code",
   "execution_count": 1,
   "metadata": {},
   "outputs": [
    {
     "name": "stdout",
     "output_type": "stream",
     "text": [
      "pygame 2.4.0 (SDL 2.26.4, Python 3.8.12)\n",
      "Hello from the pygame community. https://www.pygame.org/contribute.html\n"
     ]
    }
   ],
   "source": [
    "import pickle\n",
    "import os,sys\n",
    "sys.path.append(\"../../\")\n",
    "import matplotlib.pyplot as plt\n",
    "\n",
    "# from human_aware_rl.dummy.rl_agent import *\n",
    "\n",
    "from overcooked_ai_py.visualization.state_visualizer import StateVisualizer"
   ]
  },
  {
   "cell_type": "code",
   "execution_count": 2,
   "metadata": {},
   "outputs": [],
   "source": [
    "def load_checkpoint(file_path):\n",
    "    assert os.path.isfile(file_path)\n",
    "    with open(file_path, 'rb') as file:\n",
    "        checkpoint = pickle.load(file)\n",
    "    return checkpoint"
   ]
  },
  {
   "cell_type": "code",
   "execution_count": 3,
   "metadata": {},
   "outputs": [
    {
     "ename": "AssertionError",
     "evalue": "",
     "output_type": "error",
     "traceback": [
      "\u001b[0;31m---------------------------------------------------------------------------\u001b[0m",
      "\u001b[0;31mAssertionError\u001b[0m                            Traceback (most recent call last)",
      "\u001b[1;32m/Users/jasmineli/Desktop/moral-ai-irl/human_aware_rl_master/human_aware_rl/irl/visualize.ipynb Cell 3\u001b[0m line \u001b[0;36m<cell line: 2>\u001b[0;34m()\u001b[0m\n\u001b[1;32m      <a href='vscode-notebook-cell:/Users/jasmineli/Desktop/moral-ai-irl/human_aware_rl_master/human_aware_rl/irl/visualize.ipynb#W2sZmlsZQ%3D%3D?line=0'>1</a>\u001b[0m ckpt \u001b[39m=\u001b[39m \u001b[39m'\u001b[39m\u001b[39m'\u001b[39m\n\u001b[0;32m----> <a href='vscode-notebook-cell:/Users/jasmineli/Desktop/moral-ai-irl/human_aware_rl_master/human_aware_rl/irl/visualize.ipynb#W2sZmlsZQ%3D%3D?line=1'>2</a>\u001b[0m info \u001b[39m=\u001b[39m load_checkpoint(ckpt)\n\u001b[1;32m      <a href='vscode-notebook-cell:/Users/jasmineli/Desktop/moral-ai-irl/human_aware_rl_master/human_aware_rl/irl/visualize.ipynb#W2sZmlsZQ%3D%3D?line=2'>3</a>\u001b[0m diff_log \u001b[39m=\u001b[39m [info[\u001b[39m'\u001b[39m\u001b[39mdiff_log\u001b[39m\u001b[39m'\u001b[39m][i]\u001b[39m.\u001b[39mitem() \u001b[39mfor\u001b[39;00m i \u001b[39min\u001b[39;00m \u001b[39mrange\u001b[39m(\u001b[39m0\u001b[39m, \u001b[39mlen\u001b[39m(info[\u001b[39m'\u001b[39m\u001b[39mdiff_log\u001b[39m\u001b[39m'\u001b[39m]))]\n\u001b[1;32m      <a href='vscode-notebook-cell:/Users/jasmineli/Desktop/moral-ai-irl/human_aware_rl_master/human_aware_rl/irl/visualize.ipynb#W2sZmlsZQ%3D%3D?line=4'>5</a>\u001b[0m plt\u001b[39m.\u001b[39mtitle(\u001b[39m\"\u001b[39m\u001b[39mDifference between expert and RL agent policy\u001b[39m\u001b[39m\"\u001b[39m)\n",
      "\u001b[1;32m/Users/jasmineli/Desktop/moral-ai-irl/human_aware_rl_master/human_aware_rl/irl/visualize.ipynb Cell 3\u001b[0m line \u001b[0;36mload_checkpoint\u001b[0;34m(file_path)\u001b[0m\n\u001b[1;32m      <a href='vscode-notebook-cell:/Users/jasmineli/Desktop/moral-ai-irl/human_aware_rl_master/human_aware_rl/irl/visualize.ipynb#W2sZmlsZQ%3D%3D?line=0'>1</a>\u001b[0m \u001b[39mdef\u001b[39;00m \u001b[39mload_checkpoint\u001b[39m(file_path):\n\u001b[0;32m----> <a href='vscode-notebook-cell:/Users/jasmineli/Desktop/moral-ai-irl/human_aware_rl_master/human_aware_rl/irl/visualize.ipynb#W2sZmlsZQ%3D%3D?line=1'>2</a>\u001b[0m     \u001b[39massert\u001b[39;00m os\u001b[39m.\u001b[39mpath\u001b[39m.\u001b[39misfile(file_path)\n\u001b[1;32m      <a href='vscode-notebook-cell:/Users/jasmineli/Desktop/moral-ai-irl/human_aware_rl_master/human_aware_rl/irl/visualize.ipynb#W2sZmlsZQ%3D%3D?line=2'>3</a>\u001b[0m     \u001b[39mwith\u001b[39;00m \u001b[39mopen\u001b[39m(file_path, \u001b[39m'\u001b[39m\u001b[39mrb\u001b[39m\u001b[39m'\u001b[39m) \u001b[39mas\u001b[39;00m file:\n\u001b[1;32m      <a href='vscode-notebook-cell:/Users/jasmineli/Desktop/moral-ai-irl/human_aware_rl_master/human_aware_rl/irl/visualize.ipynb#W2sZmlsZQ%3D%3D?line=3'>4</a>\u001b[0m         checkpoint \u001b[39m=\u001b[39m pickle\u001b[39m.\u001b[39mload(file)\n",
      "\u001b[0;31mAssertionError\u001b[0m: "
     ]
    }
   ],
   "source": [
    "ckpt = ''\n",
    "info = load_checkpoint(ckpt)\n",
    "diff_log = [info['diff_log'][i].item() for i in range(0, len(info['diff_log']))]\n",
    "\n",
    "plt.title(\"Difference between expert and RL agent policy\")\n",
    "plt.xlabel(\"Epoch\")\n",
    "plt.ylabel(\"Square difference\")\n",
    "\n",
    "plt.plot(range(0, len(diff_log)), diff_log,)\n",
    "plt.grid()\n",
    "plt.show\n"
   ]
  },
  {
   "cell_type": "code",
   "execution_count": 4,
   "metadata": {},
   "outputs": [
    {
     "name": "stdout",
     "output_type": "stream",
     "text": [
      "10 trajectories in this file\n"
     ]
    }
   ],
   "source": [
    "ckpt_traj = \"/Users/jasmineli/Desktop/moral-ai-irl/human_aware_rl_master/human_aware_rl/irl/result/modified/coop_experiment_1_T2_wte_epoch=30_trainIt=600.trajectory\"\n",
    "cp_trajs = load_checkpoint(ckpt_traj)\n",
    "assert type(cp_trajs) == list\n",
    "print(f'{len(cp_trajs)} trajectories in this file')"
   ]
  },
  {
   "cell_type": "code",
   "execution_count": 5,
   "metadata": {},
   "outputs": [
    {
     "data": {
      "application/vnd.jupyter.widget-view+json": {
       "model_id": "a9a8ae68ed374342b07b31c790fde31c",
       "version_major": 2,
       "version_minor": 0
      },
      "text/plain": [
       "interactive(children=(IntSlider(value=0, description='timestep', max=7), Output()), _dom_classes=('widget-inte…"
      ]
     },
     "metadata": {},
     "output_type": "display_data"
    },
    {
     "ename": "",
     "evalue": "",
     "output_type": "error",
     "traceback": [
      "\u001b[1;31mThe Kernel crashed while executing code in the the current cell or a previous cell. Please review the code in the cell(s) to identify a possible cause of the failure. Click <a href='https://aka.ms/vscodeJupyterKernelCrash'>here</a> for more info. View Jupyter <a href='command:jupyter.viewOutput'>log</a> for further details."
     ]
    }
   ],
   "source": [
    "StateVisualizer().display_rendered_trajectory(\n",
    "    cp_trajs[8], \n",
    "    ipython_display=True, \n",
    "    img_directory_path='/Users/jasmineli/Desktop/moral-ai-irl/human_aware_rl_master/human_aware_rl/irl/visualization'\n",
    ")"
   ]
  },
  {
   "attachments": {},
   "cell_type": "markdown",
   "metadata": {},
   "source": [
    "## Original Example"
   ]
  },
  {
   "cell_type": "code",
   "execution_count": null,
   "metadata": {},
   "outputs": [],
   "source": [
    "from overcooked_ai_py.agents.benchmarking import AgentEvaluator\n",
    "\n",
    "ae = AgentEvaluator.from_layout_name({\"layout_name\": \"coop_experiment_1\"}, {\"horizon\": 10})\n",
    "trajs = ae.evaluate_human_model_pair()"
   ]
  },
  {
   "cell_type": "code",
   "execution_count": null,
   "metadata": {},
   "outputs": [],
   "source": [
    "action_probs = [ [RandomAgent(all_actions=True).action(state)[1][\"action_probs\"]]*2 for state in trajs[\"ep_states\"][0]]\n",
    "StateVisualizer().display_rendered_trajectory(trajs, ipython_display=True)"
   ]
  },
  {
   "cell_type": "code",
   "execution_count": null,
   "metadata": {},
   "outputs": [],
   "source": [
    "print(action_probs)"
   ]
  }
 ],
 "metadata": {
  "kernelspec": {
   "display_name": "mai2",
   "language": "python",
   "name": "python3"
  },
  "language_info": {
   "codemirror_mode": {
    "name": "ipython",
    "version": 3
   },
   "file_extension": ".py",
   "mimetype": "text/x-python",
   "name": "python",
   "nbconvert_exporter": "python",
   "pygments_lexer": "ipython3",
   "version": "3.8.12"
  },
  "orig_nbformat": 4,
  "vscode": {
   "interpreter": {
    "hash": "b15ee45e7149d2797238597f90b4700670ee9523c4d8c99c2dda2f6e6be45065"
   }
  }
 },
 "nbformat": 4,
 "nbformat_minor": 2
}
